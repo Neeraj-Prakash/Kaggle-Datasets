{
 "cells": [
  {
   "cell_type": "markdown",
   "metadata": {},
   "source": [
    "## Loading Dataset"
   ]
  },
  {
   "cell_type": "code",
   "execution_count": 1,
   "metadata": {},
   "outputs": [],
   "source": [
    "import pandas as pd\n",
    "import numpy as np\n",
    "import random\n",
    "import warnings\n",
    "warnings.filterwarnings('ignore')"
   ]
  },
  {
   "cell_type": "code",
   "execution_count": 2,
   "metadata": {},
   "outputs": [
    {
     "data": {
      "text/html": [
       "<div>\n",
       "<style scoped>\n",
       "    .dataframe tbody tr th:only-of-type {\n",
       "        vertical-align: middle;\n",
       "    }\n",
       "\n",
       "    .dataframe tbody tr th {\n",
       "        vertical-align: top;\n",
       "    }\n",
       "\n",
       "    .dataframe thead th {\n",
       "        text-align: right;\n",
       "    }\n",
       "</style>\n",
       "<table border=\"1\" class=\"dataframe\">\n",
       "  <thead>\n",
       "    <tr style=\"text-align: right;\">\n",
       "      <th></th>\n",
       "      <th>PassengerId</th>\n",
       "      <th>Survived</th>\n",
       "      <th>Pclass</th>\n",
       "      <th>Name</th>\n",
       "      <th>Sex</th>\n",
       "      <th>Age</th>\n",
       "      <th>SibSp</th>\n",
       "      <th>Parch</th>\n",
       "      <th>Ticket</th>\n",
       "      <th>Fare</th>\n",
       "      <th>Cabin</th>\n",
       "      <th>Embarked</th>\n",
       "    </tr>\n",
       "  </thead>\n",
       "  <tbody>\n",
       "    <tr>\n",
       "      <th>490</th>\n",
       "      <td>491</td>\n",
       "      <td>0</td>\n",
       "      <td>3</td>\n",
       "      <td>Hagland, Mr. Konrad Mathias Reiersen</td>\n",
       "      <td>male</td>\n",
       "      <td>NaN</td>\n",
       "      <td>1</td>\n",
       "      <td>0</td>\n",
       "      <td>65304</td>\n",
       "      <td>19.9667</td>\n",
       "      <td>NaN</td>\n",
       "      <td>S</td>\n",
       "    </tr>\n",
       "    <tr>\n",
       "      <th>537</th>\n",
       "      <td>538</td>\n",
       "      <td>1</td>\n",
       "      <td>1</td>\n",
       "      <td>LeRoy, Miss. Bertha</td>\n",
       "      <td>female</td>\n",
       "      <td>30.0</td>\n",
       "      <td>0</td>\n",
       "      <td>0</td>\n",
       "      <td>PC 17761</td>\n",
       "      <td>106.4250</td>\n",
       "      <td>NaN</td>\n",
       "      <td>C</td>\n",
       "    </tr>\n",
       "    <tr>\n",
       "      <th>565</th>\n",
       "      <td>566</td>\n",
       "      <td>0</td>\n",
       "      <td>3</td>\n",
       "      <td>Davies, Mr. Alfred J</td>\n",
       "      <td>male</td>\n",
       "      <td>24.0</td>\n",
       "      <td>2</td>\n",
       "      <td>0</td>\n",
       "      <td>A/4 48871</td>\n",
       "      <td>24.1500</td>\n",
       "      <td>NaN</td>\n",
       "      <td>S</td>\n",
       "    </tr>\n",
       "    <tr>\n",
       "      <th>671</th>\n",
       "      <td>672</td>\n",
       "      <td>0</td>\n",
       "      <td>1</td>\n",
       "      <td>Davidson, Mr. Thornton</td>\n",
       "      <td>male</td>\n",
       "      <td>31.0</td>\n",
       "      <td>1</td>\n",
       "      <td>0</td>\n",
       "      <td>F.C. 12750</td>\n",
       "      <td>52.0000</td>\n",
       "      <td>B71</td>\n",
       "      <td>S</td>\n",
       "    </tr>\n",
       "    <tr>\n",
       "      <th>478</th>\n",
       "      <td>479</td>\n",
       "      <td>0</td>\n",
       "      <td>3</td>\n",
       "      <td>Karlsson, Mr. Nils August</td>\n",
       "      <td>male</td>\n",
       "      <td>22.0</td>\n",
       "      <td>0</td>\n",
       "      <td>0</td>\n",
       "      <td>350060</td>\n",
       "      <td>7.5208</td>\n",
       "      <td>NaN</td>\n",
       "      <td>S</td>\n",
       "    </tr>\n",
       "  </tbody>\n",
       "</table>\n",
       "</div>"
      ],
      "text/plain": [
       "     PassengerId  Survived  Pclass                                  Name  \\\n",
       "490          491         0       3  Hagland, Mr. Konrad Mathias Reiersen   \n",
       "537          538         1       1                   LeRoy, Miss. Bertha   \n",
       "565          566         0       3                  Davies, Mr. Alfred J   \n",
       "671          672         0       1                Davidson, Mr. Thornton   \n",
       "478          479         0       3             Karlsson, Mr. Nils August   \n",
       "\n",
       "        Sex   Age  SibSp  Parch      Ticket      Fare Cabin Embarked  \n",
       "490    male   NaN      1      0       65304   19.9667   NaN        S  \n",
       "537  female  30.0      0      0    PC 17761  106.4250   NaN        C  \n",
       "565    male  24.0      2      0   A/4 48871   24.1500   NaN        S  \n",
       "671    male  31.0      1      0  F.C. 12750   52.0000   B71        S  \n",
       "478    male  22.0      0      0      350060    7.5208   NaN        S  "
      ]
     },
     "execution_count": 2,
     "metadata": {},
     "output_type": "execute_result"
    }
   ],
   "source": [
    "df = pd.read_csv('train.csv')\n",
    "#Randomly shuffling rows of dataset\n",
    "df = df.sample(frac=1)\n",
    "df.head()"
   ]
  },
  {
   "cell_type": "code",
   "execution_count": 3,
   "metadata": {},
   "outputs": [
    {
     "name": "stdout",
     "output_type": "stream",
     "text": [
      "(891, 12)\n"
     ]
    }
   ],
   "source": [
    "print(df.shape)"
   ]
  },
  {
   "cell_type": "markdown",
   "metadata": {},
   "source": [
    "## Preprocessing"
   ]
  },
  {
   "cell_type": "code",
   "execution_count": 4,
   "metadata": {},
   "outputs": [
    {
     "data": {
      "text/plain": [
       "Index(['PassengerId', 'Survived', 'Pclass', 'Name', 'Sex', 'Age', 'SibSp',\n",
       "       'Parch', 'Ticket', 'Fare', 'Cabin', 'Embarked'],\n",
       "      dtype='object')"
      ]
     },
     "execution_count": 4,
     "metadata": {},
     "output_type": "execute_result"
    }
   ],
   "source": [
    "df.columns"
   ]
  },
  {
   "cell_type": "code",
   "execution_count": 5,
   "metadata": {},
   "outputs": [
    {
     "data": {
      "text/plain": [
       "148"
      ]
     },
     "execution_count": 5,
     "metadata": {},
     "output_type": "execute_result"
    }
   ],
   "source": [
    "len(set(df['Cabin']))"
   ]
  },
  {
   "cell_type": "code",
   "execution_count": 6,
   "metadata": {},
   "outputs": [],
   "source": [
    "#Extracting important Features for our models\n",
    "data = df[['Age','Fare','SibSp','Parch','Pclass','Sex','Survived']]\n"
   ]
  },
  {
   "cell_type": "code",
   "execution_count": 7,
   "metadata": {},
   "outputs": [
    {
     "name": "stdout",
     "output_type": "stream",
     "text": [
      "(891, 7)\n"
     ]
    }
   ],
   "source": [
    "#Filling NaN values with the mean of that column\n",
    "data.fillna(data.mean(), inplace=True)\n",
    "print(data.shape)"
   ]
  },
  {
   "cell_type": "code",
   "execution_count": 8,
   "metadata": {},
   "outputs": [],
   "source": [
    "#Creating a new feature from sibling count and parent count\n",
    "\n",
    "data['FamilySize'] = data['SibSp'] + data['Parch'] + 1"
   ]
  },
  {
   "cell_type": "code",
   "execution_count": 9,
   "metadata": {},
   "outputs": [],
   "source": [
    "#Dividing the Age into groups\n",
    "\n",
    "data.loc[ data['Age'] <= 16, 'Age'] = 0\n",
    "data.loc[(data['Age'] > 16) & (data['Age'] <= 32), 'Age'] = 1\n",
    "data.loc[(data['Age'] > 32) & (data['Age'] <= 48), 'Age'] = 2\n",
    "data.loc[(data['Age'] > 48) & (data['Age'] <= 64), 'Age'] = 3\n",
    "data.loc[ data['Age'] > 64, 'Age'] = 4"
   ]
  },
  {
   "cell_type": "code",
   "execution_count": 10,
   "metadata": {},
   "outputs": [
    {
     "data": {
      "text/html": [
       "<div>\n",
       "<style scoped>\n",
       "    .dataframe tbody tr th:only-of-type {\n",
       "        vertical-align: middle;\n",
       "    }\n",
       "\n",
       "    .dataframe tbody tr th {\n",
       "        vertical-align: top;\n",
       "    }\n",
       "\n",
       "    .dataframe thead th {\n",
       "        text-align: right;\n",
       "    }\n",
       "</style>\n",
       "<table border=\"1\" class=\"dataframe\">\n",
       "  <thead>\n",
       "    <tr style=\"text-align: right;\">\n",
       "      <th></th>\n",
       "      <th>Age</th>\n",
       "      <th>Fare</th>\n",
       "      <th>SibSp</th>\n",
       "      <th>Parch</th>\n",
       "      <th>Pclass</th>\n",
       "      <th>Sex</th>\n",
       "      <th>Survived</th>\n",
       "      <th>FamilySize</th>\n",
       "    </tr>\n",
       "  </thead>\n",
       "  <tbody>\n",
       "    <tr>\n",
       "      <th>490</th>\n",
       "      <td>1.0</td>\n",
       "      <td>19.9667</td>\n",
       "      <td>1</td>\n",
       "      <td>0</td>\n",
       "      <td>3</td>\n",
       "      <td>male</td>\n",
       "      <td>0</td>\n",
       "      <td>2</td>\n",
       "    </tr>\n",
       "    <tr>\n",
       "      <th>537</th>\n",
       "      <td>1.0</td>\n",
       "      <td>106.4250</td>\n",
       "      <td>0</td>\n",
       "      <td>0</td>\n",
       "      <td>1</td>\n",
       "      <td>female</td>\n",
       "      <td>1</td>\n",
       "      <td>1</td>\n",
       "    </tr>\n",
       "    <tr>\n",
       "      <th>565</th>\n",
       "      <td>1.0</td>\n",
       "      <td>24.1500</td>\n",
       "      <td>2</td>\n",
       "      <td>0</td>\n",
       "      <td>3</td>\n",
       "      <td>male</td>\n",
       "      <td>0</td>\n",
       "      <td>3</td>\n",
       "    </tr>\n",
       "    <tr>\n",
       "      <th>671</th>\n",
       "      <td>1.0</td>\n",
       "      <td>52.0000</td>\n",
       "      <td>1</td>\n",
       "      <td>0</td>\n",
       "      <td>1</td>\n",
       "      <td>male</td>\n",
       "      <td>0</td>\n",
       "      <td>2</td>\n",
       "    </tr>\n",
       "    <tr>\n",
       "      <th>478</th>\n",
       "      <td>1.0</td>\n",
       "      <td>7.5208</td>\n",
       "      <td>0</td>\n",
       "      <td>0</td>\n",
       "      <td>3</td>\n",
       "      <td>male</td>\n",
       "      <td>0</td>\n",
       "      <td>1</td>\n",
       "    </tr>\n",
       "  </tbody>\n",
       "</table>\n",
       "</div>"
      ],
      "text/plain": [
       "     Age      Fare  SibSp  Parch  Pclass     Sex  Survived  FamilySize\n",
       "490  1.0   19.9667      1      0       3    male         0           2\n",
       "537  1.0  106.4250      0      0       1  female         1           1\n",
       "565  1.0   24.1500      2      0       3    male         0           3\n",
       "671  1.0   52.0000      1      0       1    male         0           2\n",
       "478  1.0    7.5208      0      0       3    male         0           1"
      ]
     },
     "execution_count": 10,
     "metadata": {},
     "output_type": "execute_result"
    }
   ],
   "source": [
    "data.head()"
   ]
  },
  {
   "cell_type": "code",
   "execution_count": 11,
   "metadata": {},
   "outputs": [
    {
     "data": {
      "text/html": [
       "<div>\n",
       "<style scoped>\n",
       "    .dataframe tbody tr th:only-of-type {\n",
       "        vertical-align: middle;\n",
       "    }\n",
       "\n",
       "    .dataframe tbody tr th {\n",
       "        vertical-align: top;\n",
       "    }\n",
       "\n",
       "    .dataframe thead th {\n",
       "        text-align: right;\n",
       "    }\n",
       "</style>\n",
       "<table border=\"1\" class=\"dataframe\">\n",
       "  <thead>\n",
       "    <tr style=\"text-align: right;\">\n",
       "      <th></th>\n",
       "      <th>Age</th>\n",
       "      <th>Fare</th>\n",
       "      <th>Pclass</th>\n",
       "      <th>Sex</th>\n",
       "      <th>Survived</th>\n",
       "      <th>FamilySize</th>\n",
       "    </tr>\n",
       "  </thead>\n",
       "  <tbody>\n",
       "    <tr>\n",
       "      <th>490</th>\n",
       "      <td>1.0</td>\n",
       "      <td>19.9667</td>\n",
       "      <td>3</td>\n",
       "      <td>male</td>\n",
       "      <td>0</td>\n",
       "      <td>2</td>\n",
       "    </tr>\n",
       "    <tr>\n",
       "      <th>537</th>\n",
       "      <td>1.0</td>\n",
       "      <td>106.4250</td>\n",
       "      <td>1</td>\n",
       "      <td>female</td>\n",
       "      <td>1</td>\n",
       "      <td>1</td>\n",
       "    </tr>\n",
       "    <tr>\n",
       "      <th>565</th>\n",
       "      <td>1.0</td>\n",
       "      <td>24.1500</td>\n",
       "      <td>3</td>\n",
       "      <td>male</td>\n",
       "      <td>0</td>\n",
       "      <td>3</td>\n",
       "    </tr>\n",
       "    <tr>\n",
       "      <th>671</th>\n",
       "      <td>1.0</td>\n",
       "      <td>52.0000</td>\n",
       "      <td>1</td>\n",
       "      <td>male</td>\n",
       "      <td>0</td>\n",
       "      <td>2</td>\n",
       "    </tr>\n",
       "    <tr>\n",
       "      <th>478</th>\n",
       "      <td>1.0</td>\n",
       "      <td>7.5208</td>\n",
       "      <td>3</td>\n",
       "      <td>male</td>\n",
       "      <td>0</td>\n",
       "      <td>1</td>\n",
       "    </tr>\n",
       "  </tbody>\n",
       "</table>\n",
       "</div>"
      ],
      "text/plain": [
       "     Age      Fare  Pclass     Sex  Survived  FamilySize\n",
       "490  1.0   19.9667       3    male         0           2\n",
       "537  1.0  106.4250       1  female         1           1\n",
       "565  1.0   24.1500       3    male         0           3\n",
       "671  1.0   52.0000       1    male         0           2\n",
       "478  1.0    7.5208       3    male         0           1"
      ]
     },
     "execution_count": 11,
     "metadata": {},
     "output_type": "execute_result"
    }
   ],
   "source": [
    "#Dropping the unnecessary columns\n",
    "data.drop(['SibSp','Parch'],axis=1, inplace=True)\n",
    "data.head()"
   ]
  },
  {
   "cell_type": "code",
   "execution_count": 12,
   "metadata": {},
   "outputs": [],
   "source": [
    "# Dividing the dataset into Input and Outputs\n",
    "\n",
    "y = data['Survived'].values\n",
    "X = data[['Age','Fare','Pclass','FamilySize']]"
   ]
  },
  {
   "cell_type": "code",
   "execution_count": 13,
   "metadata": {},
   "outputs": [
    {
     "name": "stdout",
     "output_type": "stream",
     "text": [
      "490    3\n",
      "537    1\n",
      "565    3\n",
      "671    1\n",
      "478    3\n",
      "Name: Pclass, dtype: int64\n",
      "---------------------------------------\n",
      "490    1\n",
      "537    3\n",
      "565    1\n",
      "671    3\n",
      "478    1\n",
      "Name: Pclass, dtype: int64\n"
     ]
    }
   ],
   "source": [
    "#Reversing the pclass \n",
    "#older 1:upper 2:middle 3:lower\n",
    "#new 1:lower 2:middle 3:upper\n",
    "\n",
    "print(X['Pclass'].head())\n",
    "X['Pclass'] = 4 - X['Pclass'].copy()\n",
    "print('---------------------------------------')\n",
    "print(X['Pclass'].head())"
   ]
  },
  {
   "cell_type": "markdown",
   "metadata": {},
   "source": [
    "### OneHotEncoding"
   ]
  },
  {
   "cell_type": "code",
   "execution_count": 14,
   "metadata": {},
   "outputs": [],
   "source": [
    "from sklearn.preprocessing import LabelEncoder,OneHotEncoder"
   ]
  },
  {
   "cell_type": "code",
   "execution_count": 15,
   "metadata": {},
   "outputs": [],
   "source": [
    "#Converting the 'Sex' to column to one hot Array.\n",
    "\n",
    "lb = LabelEncoder()\n",
    "data = data.apply(lb.fit_transform)"
   ]
  },
  {
   "cell_type": "code",
   "execution_count": 16,
   "metadata": {},
   "outputs": [
    {
     "data": {
      "text/plain": [
       "OneHotEncoder(categorical_features='all', dtype=<class 'numpy.float64'>,\n",
       "       handle_unknown='error', n_values='auto', sparse=True)"
      ]
     },
     "execution_count": 16,
     "metadata": {},
     "output_type": "execute_result"
    }
   ],
   "source": [
    "ohe = OneHotEncoder()\n",
    "ohe.fit(pd.DataFrame(data['Sex']))"
   ]
  },
  {
   "cell_type": "code",
   "execution_count": 17,
   "metadata": {},
   "outputs": [],
   "source": [
    "onehotlabel = ohe.transform(pd.DataFrame(data['Sex'])).toarray()"
   ]
  },
  {
   "cell_type": "code",
   "execution_count": 18,
   "metadata": {},
   "outputs": [
    {
     "data": {
      "text/plain": [
       "Index(['Age', 'Fare', 'Pclass', 'FamilySize'], dtype='object')"
      ]
     },
     "execution_count": 18,
     "metadata": {},
     "output_type": "execute_result"
    }
   ],
   "source": [
    "X.columns"
   ]
  },
  {
   "cell_type": "code",
   "execution_count": 19,
   "metadata": {},
   "outputs": [],
   "source": [
    "#X = X.iloc[:,:-1].values"
   ]
  },
  {
   "cell_type": "code",
   "execution_count": 20,
   "metadata": {},
   "outputs": [
    {
     "data": {
      "text/plain": [
       "(891, 4)"
      ]
     },
     "execution_count": 20,
     "metadata": {},
     "output_type": "execute_result"
    }
   ],
   "source": [
    "X.shape"
   ]
  },
  {
   "cell_type": "code",
   "execution_count": 21,
   "metadata": {},
   "outputs": [],
   "source": [
    "X = np.append(X,onehotlabel,axis=1)"
   ]
  },
  {
   "cell_type": "code",
   "execution_count": 22,
   "metadata": {},
   "outputs": [
    {
     "data": {
      "text/plain": [
       "(891, 6)"
      ]
     },
     "execution_count": 22,
     "metadata": {},
     "output_type": "execute_result"
    }
   ],
   "source": [
    "X.shape"
   ]
  },
  {
   "cell_type": "code",
   "execution_count": 23,
   "metadata": {},
   "outputs": [
    {
     "name": "stdout",
     "output_type": "stream",
     "text": [
      "[0.0496494  0.99133474 0.0496494  0.09929881 0.         0.0496494 ]\n"
     ]
    }
   ],
   "source": [
    "#Normalizing the dataset to imporve training\n",
    "\n",
    "from sklearn.preprocessing import normalize\n",
    "X = normalize(X)\n",
    "print(X[0])"
   ]
  },
  {
   "cell_type": "code",
   "execution_count": 48,
   "metadata": {},
   "outputs": [
    {
     "name": "stdout",
     "output_type": "stream",
     "text": [
      "(712, 6)\n"
     ]
    },
    {
     "data": {
      "text/plain": [
       "(179, 6)"
      ]
     },
     "execution_count": 48,
     "metadata": {},
     "output_type": "execute_result"
    }
   ],
   "source": [
    "#Splitting the whole dataset into train and test sets\n",
    "\n",
    "from sklearn.model_selection import train_test_split\n",
    "\n",
    "X_train, X_test, y_train, y_test = train_test_split(X,y,test_size=0.20)\n",
    "\n",
    "print(X_train.shape)\n",
    "X_test.shape"
   ]
  },
  {
   "cell_type": "markdown",
   "metadata": {},
   "source": [
    "## Modelling"
   ]
  },
  {
   "cell_type": "markdown",
   "metadata": {},
   "source": [
    "### SVM"
   ]
  },
  {
   "cell_type": "code",
   "execution_count": 49,
   "metadata": {},
   "outputs": [
    {
     "name": "stdout",
     "output_type": "stream",
     "text": [
      "0.6368715083798883\n"
     ]
    }
   ],
   "source": [
    "from sklearn import svm\n",
    "\n",
    "model = svm.SVC()\n",
    "model.fit(X_train,y_train)\n",
    "\n",
    "pred = model.predict(X_test)\n",
    "accuracy = model.score(X_test,y_test)\n",
    "print(accuracy)"
   ]
  },
  {
   "cell_type": "markdown",
   "metadata": {},
   "source": [
    "### Random Forest"
   ]
  },
  {
   "cell_type": "code",
   "execution_count": 50,
   "metadata": {},
   "outputs": [
    {
     "name": "stdout",
     "output_type": "stream",
     "text": [
      "0.8491620111731844\n"
     ]
    }
   ],
   "source": [
    "from sklearn.ensemble import RandomForestClassifier\n",
    "\n",
    "model1 = RandomForestClassifier()\n",
    "model1.fit(X_train, y_train)\n",
    "\n",
    "accuracy = model1.score(X_test,y_test)\n",
    "print(accuracy)"
   ]
  },
  {
   "cell_type": "markdown",
   "metadata": {},
   "source": [
    "### Decision Tree"
   ]
  },
  {
   "cell_type": "code",
   "execution_count": 51,
   "metadata": {},
   "outputs": [
    {
     "name": "stdout",
     "output_type": "stream",
     "text": [
      "0.8324022346368715\n"
     ]
    }
   ],
   "source": [
    "from sklearn.tree import DecisionTreeClassifier\n",
    "\n",
    "model2 = DecisionTreeClassifier()\n",
    "\n",
    "model2.fit(X_train, y_train)\n",
    "\n",
    "accuracy = model2.score(X_test,y_test)\n",
    "print(accuracy)"
   ]
  },
  {
   "cell_type": "markdown",
   "metadata": {},
   "source": [
    "### Logistic Regression"
   ]
  },
  {
   "cell_type": "code",
   "execution_count": 52,
   "metadata": {},
   "outputs": [
    {
     "name": "stdout",
     "output_type": "stream",
     "text": [
      "0.7597765363128491\n"
     ]
    }
   ],
   "source": [
    "from sklearn.linear_model import LogisticRegression\n",
    "\n",
    "model3 = LogisticRegression()\n",
    "model3.fit(X_train, y_train)\n",
    "\n",
    "accuracy = model3.score(X_test,y_test)\n",
    "print(accuracy)"
   ]
  },
  {
   "cell_type": "markdown",
   "metadata": {},
   "source": [
    "### Naive Bayes"
   ]
  },
  {
   "cell_type": "code",
   "execution_count": 53,
   "metadata": {},
   "outputs": [
    {
     "name": "stdout",
     "output_type": "stream",
     "text": [
      "0.6368715083798883\n"
     ]
    }
   ],
   "source": [
    "from sklearn.naive_bayes import MultinomialNB\n",
    "\n",
    "model4 = MultinomialNB()\n",
    "model4.fit(X_train, y_train)\n",
    "\n",
    "accuracy = model4.score(X_test,y_test)\n",
    "print(accuracy)"
   ]
  },
  {
   "cell_type": "markdown",
   "metadata": {},
   "source": [
    "### Neural Network"
   ]
  },
  {
   "cell_type": "code",
   "execution_count": 30,
   "metadata": {},
   "outputs": [
    {
     "name": "stderr",
     "output_type": "stream",
     "text": [
      "Using TensorFlow backend.\n"
     ]
    }
   ],
   "source": [
    "import keras\n",
    "from keras.models import Model\n",
    "from keras.layers import Dense, Flatten, Activation, Dropout, Input, BatchNormalization\n",
    "from keras.optimizers import Adam\n",
    "import matplotlib.pyplot as plt"
   ]
  },
  {
   "cell_type": "code",
   "execution_count": 55,
   "metadata": {},
   "outputs": [],
   "source": [
    "nn_inputs = Input(X_train.shape[1:])\n",
    "\n",
    "#n = Flatten() (nn_inputs)\n",
    "nn = Dense(32) (nn_inputs)\n",
    "nn = BatchNormalization()(nn)\n",
    "nn = Activation('relu')(nn)\n",
    "\n",
    "'''nn = Dense(32) (nn)\n",
    "nn = BatchNormalization()(nn)\n",
    "nn = Activation('tanh')(nn)\n",
    "\n",
    "nn = Dense(32) (nn)\n",
    "#nn = BatchNormalization()(nn)\n",
    "nn = Activation('tanh')(nn)\n",
    "nn = Dropout(0.2) (nn)'''\n",
    "\n",
    "nn = Dense(64, activation='relu') (nn)\n",
    "nn = Dropout(0.3) (nn)\n",
    "\n",
    "nn = Dense(1)(nn)\n",
    "nn = Activation('sigmoid')(nn)\n",
    "\n",
    "nn_model = Model(inputs = nn_inputs, outputs = nn, name='Titanic-32-64')\n",
    "\n",
    "nn_model.compile(loss='binary_crossentropy',\n",
    "                 optimizer=Adam(lr=0.0001, decay=0.00001),\n",
    "                 metrics=['accuracy'])\n",
    "\n"
   ]
  },
  {
   "cell_type": "code",
   "execution_count": 56,
   "metadata": {},
   "outputs": [
    {
     "name": "stdout",
     "output_type": "stream",
     "text": [
      "_________________________________________________________________\n",
      "Layer (type)                 Output Shape              Param #   \n",
      "=================================================================\n",
      "input_3 (InputLayer)         (None, 6)                 0         \n",
      "_________________________________________________________________\n",
      "dense_7 (Dense)              (None, 32)                224       \n",
      "_________________________________________________________________\n",
      "batch_normalization_3 (Batch (None, 32)                128       \n",
      "_________________________________________________________________\n",
      "activation_5 (Activation)    (None, 32)                0         \n",
      "_________________________________________________________________\n",
      "dense_8 (Dense)              (None, 64)                2112      \n",
      "_________________________________________________________________\n",
      "dropout_3 (Dropout)          (None, 64)                0         \n",
      "_________________________________________________________________\n",
      "dense_9 (Dense)              (None, 1)                 65        \n",
      "_________________________________________________________________\n",
      "activation_6 (Activation)    (None, 1)                 0         \n",
      "=================================================================\n",
      "Total params: 2,529\n",
      "Trainable params: 2,465\n",
      "Non-trainable params: 64\n",
      "_________________________________________________________________\n"
     ]
    }
   ],
   "source": [
    "nn_model.summary()"
   ]
  },
  {
   "cell_type": "code",
   "execution_count": 57,
   "metadata": {},
   "outputs": [
    {
     "name": "stdout",
     "output_type": "stream",
     "text": [
      "Train on 712 samples, validate on 179 samples\n",
      "Epoch 1/100\n",
      "712/712 [==============================] - 1s 1ms/step - loss: 0.7132 - acc: 0.5295 - val_loss: 0.6871 - val_acc: 0.6816\n",
      "Epoch 2/100\n",
      "712/712 [==============================] - 0s 241us/step - loss: 0.6853 - acc: 0.6025 - val_loss: 0.6740 - val_acc: 0.6983\n",
      "Epoch 3/100\n",
      "712/712 [==============================] - 0s 263us/step - loss: 0.6696 - acc: 0.6180 - val_loss: 0.6619 - val_acc: 0.7095\n",
      "Epoch 4/100\n",
      "712/712 [==============================] - 0s 219us/step - loss: 0.6510 - acc: 0.6419 - val_loss: 0.6510 - val_acc: 0.7263\n",
      "Epoch 5/100\n",
      "712/712 [==============================] - 0s 241us/step - loss: 0.6472 - acc: 0.6559 - val_loss: 0.6403 - val_acc: 0.7486\n",
      "Epoch 6/100\n",
      "712/712 [==============================] - 0s 241us/step - loss: 0.6260 - acc: 0.6896 - val_loss: 0.6310 - val_acc: 0.7430\n",
      "Epoch 7/100\n",
      "712/712 [==============================] - 0s 219us/step - loss: 0.6111 - acc: 0.7093 - val_loss: 0.6216 - val_acc: 0.7430\n",
      "Epoch 8/100\n",
      "712/712 [==============================] - 0s 241us/step - loss: 0.6035 - acc: 0.6671 - val_loss: 0.6128 - val_acc: 0.7430\n",
      "Epoch 9/100\n",
      "712/712 [==============================] - 0s 241us/step - loss: 0.6064 - acc: 0.6798 - val_loss: 0.6058 - val_acc: 0.7430\n",
      "Epoch 10/100\n",
      "712/712 [==============================] - 0s 241us/step - loss: 0.5879 - acc: 0.6938 - val_loss: 0.5979 - val_acc: 0.7486\n",
      "Epoch 11/100\n",
      "712/712 [==============================] - 0s 241us/step - loss: 0.5826 - acc: 0.6980 - val_loss: 0.5912 - val_acc: 0.7430\n",
      "Epoch 12/100\n",
      "712/712 [==============================] - 0s 241us/step - loss: 0.5823 - acc: 0.7022 - val_loss: 0.5841 - val_acc: 0.7430\n",
      "Epoch 13/100\n",
      "712/712 [==============================] - 0s 241us/step - loss: 0.5706 - acc: 0.7261 - val_loss: 0.5782 - val_acc: 0.7430\n",
      "Epoch 14/100\n",
      "712/712 [==============================] - 0s 241us/step - loss: 0.5748 - acc: 0.7191 - val_loss: 0.5728 - val_acc: 0.7542\n",
      "Epoch 15/100\n",
      "712/712 [==============================] - 0s 239us/step - loss: 0.5627 - acc: 0.7261 - val_loss: 0.5666 - val_acc: 0.7542\n",
      "Epoch 16/100\n",
      "712/712 [==============================] - 0s 241us/step - loss: 0.5623 - acc: 0.7191 - val_loss: 0.5611 - val_acc: 0.7654\n",
      "Epoch 17/100\n",
      "712/712 [==============================] - 0s 241us/step - loss: 0.5577 - acc: 0.7163 - val_loss: 0.5567 - val_acc: 0.7654\n",
      "Epoch 18/100\n",
      "712/712 [==============================] - 0s 241us/step - loss: 0.5474 - acc: 0.7402 - val_loss: 0.5517 - val_acc: 0.7654\n",
      "Epoch 19/100\n",
      "712/712 [==============================] - 0s 241us/step - loss: 0.5425 - acc: 0.7598 - val_loss: 0.5475 - val_acc: 0.7765\n",
      "Epoch 20/100\n",
      "712/712 [==============================] - 0s 241us/step - loss: 0.5573 - acc: 0.7458 - val_loss: 0.5429 - val_acc: 0.7877\n",
      "Epoch 21/100\n",
      "712/712 [==============================] - 0s 241us/step - loss: 0.5406 - acc: 0.7500 - val_loss: 0.5396 - val_acc: 0.7877\n",
      "Epoch 22/100\n",
      "712/712 [==============================] - 0s 241us/step - loss: 0.5517 - acc: 0.7303 - val_loss: 0.5369 - val_acc: 0.7877\n",
      "Epoch 23/100\n",
      "712/712 [==============================] - 0s 241us/step - loss: 0.5401 - acc: 0.7416 - val_loss: 0.5330 - val_acc: 0.7877\n",
      "Epoch 24/100\n",
      "712/712 [==============================] - 0s 219us/step - loss: 0.5279 - acc: 0.7612 - val_loss: 0.5295 - val_acc: 0.7877\n",
      "Epoch 25/100\n",
      "712/712 [==============================] - 0s 241us/step - loss: 0.5385 - acc: 0.7556 - val_loss: 0.5272 - val_acc: 0.7877\n",
      "Epoch 26/100\n",
      "712/712 [==============================] - 0s 241us/step - loss: 0.5384 - acc: 0.7388 - val_loss: 0.5251 - val_acc: 0.7877\n",
      "Epoch 27/100\n",
      "712/712 [==============================] - 0s 241us/step - loss: 0.5300 - acc: 0.7486 - val_loss: 0.5227 - val_acc: 0.7877\n",
      "Epoch 28/100\n",
      "712/712 [==============================] - 0s 263us/step - loss: 0.5416 - acc: 0.7514 - val_loss: 0.5194 - val_acc: 0.7877\n",
      "Epoch 29/100\n",
      "712/712 [==============================] - 0s 219us/step - loss: 0.5384 - acc: 0.7472 - val_loss: 0.5170 - val_acc: 0.7877\n",
      "Epoch 30/100\n",
      "712/712 [==============================] - 0s 219us/step - loss: 0.5425 - acc: 0.7458 - val_loss: 0.5159 - val_acc: 0.7989\n",
      "Epoch 31/100\n",
      "712/712 [==============================] - 0s 241us/step - loss: 0.5312 - acc: 0.7683 - val_loss: 0.5153 - val_acc: 0.7989\n",
      "Epoch 32/100\n",
      "712/712 [==============================] - 0s 252us/step - loss: 0.5449 - acc: 0.7598 - val_loss: 0.5135 - val_acc: 0.7989\n",
      "Epoch 33/100\n",
      "712/712 [==============================] - 0s 373us/step - loss: 0.5295 - acc: 0.7500 - val_loss: 0.5121 - val_acc: 0.7989\n",
      "Epoch 34/100\n",
      "712/712 [==============================] - 0s 263us/step - loss: 0.5254 - acc: 0.7697 - val_loss: 0.5098 - val_acc: 0.7989\n",
      "Epoch 35/100\n",
      "712/712 [==============================] - 0s 263us/step - loss: 0.5211 - acc: 0.7711 - val_loss: 0.5081 - val_acc: 0.7989\n",
      "Epoch 36/100\n",
      "712/712 [==============================] - 0s 263us/step - loss: 0.5126 - acc: 0.7612 - val_loss: 0.5073 - val_acc: 0.7989\n",
      "Epoch 37/100\n",
      "712/712 [==============================] - 0s 417us/step - loss: 0.5170 - acc: 0.7683 - val_loss: 0.5063 - val_acc: 0.7989\n",
      "Epoch 38/100\n",
      "712/712 [==============================] - 0s 351us/step - loss: 0.5221 - acc: 0.7542 - val_loss: 0.5045 - val_acc: 0.7989\n",
      "Epoch 39/100\n",
      "712/712 [==============================] - 0s 263us/step - loss: 0.5239 - acc: 0.7542 - val_loss: 0.5028 - val_acc: 0.7989\n",
      "Epoch 40/100\n",
      "712/712 [==============================] - 0s 263us/step - loss: 0.5108 - acc: 0.7767 - val_loss: 0.5000 - val_acc: 0.8045\n",
      "Epoch 41/100\n",
      "712/712 [==============================] - 0s 373us/step - loss: 0.5228 - acc: 0.7570 - val_loss: 0.4992 - val_acc: 0.8045\n",
      "Epoch 42/100\n",
      "712/712 [==============================] - 0s 263us/step - loss: 0.5175 - acc: 0.7626 - val_loss: 0.4982 - val_acc: 0.8045\n",
      "Epoch 43/100\n",
      "712/712 [==============================] - 0s 263us/step - loss: 0.5081 - acc: 0.7697 - val_loss: 0.4967 - val_acc: 0.8045\n",
      "Epoch 44/100\n",
      "712/712 [==============================] - 0s 241us/step - loss: 0.5118 - acc: 0.7654 - val_loss: 0.4957 - val_acc: 0.8045\n",
      "Epoch 45/100\n",
      "712/712 [==============================] - 0s 263us/step - loss: 0.5107 - acc: 0.7626 - val_loss: 0.4952 - val_acc: 0.8045\n",
      "Epoch 46/100\n",
      "712/712 [==============================] - 0s 241us/step - loss: 0.5012 - acc: 0.7767 - val_loss: 0.4944 - val_acc: 0.8045\n",
      "Epoch 47/100\n",
      "712/712 [==============================] - 0s 241us/step - loss: 0.5117 - acc: 0.7669 - val_loss: 0.4945 - val_acc: 0.8045\n",
      "Epoch 48/100\n",
      "712/712 [==============================] - 0s 241us/step - loss: 0.5123 - acc: 0.7725 - val_loss: 0.4934 - val_acc: 0.8045\n",
      "Epoch 49/100\n",
      "712/712 [==============================] - 0s 219us/step - loss: 0.5056 - acc: 0.7823 - val_loss: 0.4932 - val_acc: 0.8045\n",
      "Epoch 50/100\n",
      "712/712 [==============================] - 0s 263us/step - loss: 0.5052 - acc: 0.7767 - val_loss: 0.4919 - val_acc: 0.8045\n",
      "Epoch 51/100\n",
      "712/712 [==============================] - 0s 263us/step - loss: 0.5043 - acc: 0.7837 - val_loss: 0.4910 - val_acc: 0.8045\n",
      "Epoch 52/100\n",
      "712/712 [==============================] - 0s 373us/step - loss: 0.4996 - acc: 0.7781 - val_loss: 0.4908 - val_acc: 0.8045\n",
      "Epoch 53/100\n",
      "712/712 [==============================] - 0s 263us/step - loss: 0.5020 - acc: 0.7879 - val_loss: 0.4906 - val_acc: 0.8045\n",
      "Epoch 54/100\n",
      "712/712 [==============================] - 0s 241us/step - loss: 0.4984 - acc: 0.7851 - val_loss: 0.4907 - val_acc: 0.7989\n",
      "Epoch 55/100\n",
      "712/712 [==============================] - 0s 241us/step - loss: 0.5115 - acc: 0.7683 - val_loss: 0.4905 - val_acc: 0.7989\n",
      "Epoch 56/100\n",
      "712/712 [==============================] - 0s 219us/step - loss: 0.4963 - acc: 0.7837 - val_loss: 0.4903 - val_acc: 0.7989\n",
      "Epoch 57/100\n",
      "712/712 [==============================] - 0s 241us/step - loss: 0.5088 - acc: 0.7612 - val_loss: 0.4898 - val_acc: 0.8045\n",
      "Epoch 58/100\n",
      "712/712 [==============================] - 0s 351us/step - loss: 0.4980 - acc: 0.7809 - val_loss: 0.4899 - val_acc: 0.8045\n",
      "Epoch 59/100\n",
      "712/712 [==============================] - 0s 263us/step - loss: 0.4998 - acc: 0.7851 - val_loss: 0.4898 - val_acc: 0.8045\n",
      "Epoch 60/100\n",
      "712/712 [==============================] - 0s 219us/step - loss: 0.4965 - acc: 0.7781 - val_loss: 0.4888 - val_acc: 0.8045\n"
     ]
    },
    {
     "name": "stdout",
     "output_type": "stream",
     "text": [
      "Epoch 61/100\n",
      "712/712 [==============================] - 0s 241us/step - loss: 0.5108 - acc: 0.7809 - val_loss: 0.4883 - val_acc: 0.8045\n",
      "Epoch 62/100\n",
      "712/712 [==============================] - 0s 395us/step - loss: 0.5085 - acc: 0.7725 - val_loss: 0.4876 - val_acc: 0.8045\n",
      "Epoch 63/100\n",
      "712/712 [==============================] - 0s 263us/step - loss: 0.4933 - acc: 0.7893 - val_loss: 0.4865 - val_acc: 0.8101\n",
      "Epoch 64/100\n",
      "712/712 [==============================] - 0s 329us/step - loss: 0.4882 - acc: 0.7837 - val_loss: 0.4857 - val_acc: 0.8101\n",
      "Epoch 65/100\n",
      "712/712 [==============================] - 0s 263us/step - loss: 0.4967 - acc: 0.7795 - val_loss: 0.4847 - val_acc: 0.8101\n",
      "Epoch 66/100\n",
      "712/712 [==============================] - 0s 307us/step - loss: 0.5007 - acc: 0.7781 - val_loss: 0.4858 - val_acc: 0.8101\n",
      "Epoch 67/100\n",
      "712/712 [==============================] - 0s 306us/step - loss: 0.4994 - acc: 0.7739 - val_loss: 0.4854 - val_acc: 0.8101\n",
      "Epoch 68/100\n",
      "712/712 [==============================] - 0s 241us/step - loss: 0.5070 - acc: 0.7795 - val_loss: 0.4846 - val_acc: 0.8045\n",
      "Epoch 69/100\n",
      "712/712 [==============================] - 0s 241us/step - loss: 0.5001 - acc: 0.7767 - val_loss: 0.4839 - val_acc: 0.8101\n",
      "Epoch 70/100\n",
      "712/712 [==============================] - 0s 241us/step - loss: 0.5044 - acc: 0.7823 - val_loss: 0.4831 - val_acc: 0.8101\n",
      "Epoch 71/100\n",
      "712/712 [==============================] - 0s 263us/step - loss: 0.4950 - acc: 0.7767 - val_loss: 0.4823 - val_acc: 0.8101\n",
      "Epoch 72/100\n",
      "712/712 [==============================] - 0s 373us/step - loss: 0.4937 - acc: 0.7781 - val_loss: 0.4822 - val_acc: 0.8156\n",
      "Epoch 73/100\n",
      "712/712 [==============================] - 0s 351us/step - loss: 0.4935 - acc: 0.7725 - val_loss: 0.4815 - val_acc: 0.8156\n",
      "Epoch 74/100\n",
      "712/712 [==============================] - 0s 329us/step - loss: 0.4844 - acc: 0.7865 - val_loss: 0.4813 - val_acc: 0.8156\n",
      "Epoch 75/100\n",
      "712/712 [==============================] - 0s 307us/step - loss: 0.5072 - acc: 0.7809 - val_loss: 0.4806 - val_acc: 0.8156\n",
      "Epoch 76/100\n",
      "712/712 [==============================] - 0s 263us/step - loss: 0.4939 - acc: 0.7697 - val_loss: 0.4808 - val_acc: 0.8156\n",
      "Epoch 77/100\n",
      "712/712 [==============================] - 0s 241us/step - loss: 0.4844 - acc: 0.7795 - val_loss: 0.4810 - val_acc: 0.8156\n",
      "Epoch 78/100\n",
      "712/712 [==============================] - 0s 241us/step - loss: 0.4986 - acc: 0.7725 - val_loss: 0.4807 - val_acc: 0.8156\n",
      "Epoch 79/100\n",
      "712/712 [==============================] - 0s 241us/step - loss: 0.4993 - acc: 0.7893 - val_loss: 0.4800 - val_acc: 0.8156\n",
      "Epoch 80/100\n",
      "712/712 [==============================] - 0s 241us/step - loss: 0.5043 - acc: 0.7809 - val_loss: 0.4792 - val_acc: 0.8156\n",
      "Epoch 81/100\n",
      "712/712 [==============================] - 0s 263us/step - loss: 0.4943 - acc: 0.7935 - val_loss: 0.4791 - val_acc: 0.8156\n",
      "Epoch 82/100\n",
      "712/712 [==============================] - 0s 351us/step - loss: 0.4858 - acc: 0.7865 - val_loss: 0.4792 - val_acc: 0.8156\n",
      "Epoch 83/100\n",
      "712/712 [==============================] - 0s 351us/step - loss: 0.4921 - acc: 0.7837 - val_loss: 0.4789 - val_acc: 0.8156\n",
      "Epoch 84/100\n",
      "712/712 [==============================] - 0s 329us/step - loss: 0.4937 - acc: 0.7683 - val_loss: 0.4783 - val_acc: 0.8156\n",
      "Epoch 85/100\n",
      "712/712 [==============================] - 0s 329us/step - loss: 0.4871 - acc: 0.7949 - val_loss: 0.4772 - val_acc: 0.8156\n",
      "Epoch 86/100\n",
      "712/712 [==============================] - 0s 285us/step - loss: 0.4824 - acc: 0.7992 - val_loss: 0.4762 - val_acc: 0.8156\n",
      "Epoch 87/100\n",
      "712/712 [==============================] - 0s 241us/step - loss: 0.4917 - acc: 0.7837 - val_loss: 0.4764 - val_acc: 0.8156\n",
      "Epoch 88/100\n",
      "712/712 [==============================] - 0s 241us/step - loss: 0.4956 - acc: 0.7809 - val_loss: 0.4768 - val_acc: 0.8156\n",
      "Epoch 89/100\n",
      "712/712 [==============================] - 0s 263us/step - loss: 0.4951 - acc: 0.7781 - val_loss: 0.4769 - val_acc: 0.8212\n",
      "Epoch 90/100\n",
      "712/712 [==============================] - 0s 241us/step - loss: 0.4907 - acc: 0.7893 - val_loss: 0.4768 - val_acc: 0.8212\n",
      "Epoch 91/100\n",
      "712/712 [==============================] - 0s 241us/step - loss: 0.4816 - acc: 0.7949 - val_loss: 0.4755 - val_acc: 0.8212\n",
      "Epoch 92/100\n",
      "712/712 [==============================] - 0s 329us/step - loss: 0.4867 - acc: 0.7893 - val_loss: 0.4760 - val_acc: 0.8212\n",
      "Epoch 93/100\n",
      "712/712 [==============================] - 0s 373us/step - loss: 0.4760 - acc: 0.7879 - val_loss: 0.4754 - val_acc: 0.8212\n",
      "Epoch 94/100\n",
      "712/712 [==============================] - 0s 285us/step - loss: 0.5064 - acc: 0.7823 - val_loss: 0.4744 - val_acc: 0.8212\n",
      "Epoch 95/100\n",
      "712/712 [==============================] - 0s 307us/step - loss: 0.4940 - acc: 0.7725 - val_loss: 0.4736 - val_acc: 0.8212\n",
      "Epoch 96/100\n",
      "712/712 [==============================] - 0s 263us/step - loss: 0.4842 - acc: 0.7879 - val_loss: 0.4732 - val_acc: 0.8212\n",
      "Epoch 97/100\n",
      "712/712 [==============================] - 0s 263us/step - loss: 0.4770 - acc: 0.7907 - val_loss: 0.4725 - val_acc: 0.8212\n",
      "Epoch 98/100\n",
      "712/712 [==============================] - 0s 263us/step - loss: 0.4888 - acc: 0.7809 - val_loss: 0.4723 - val_acc: 0.8212\n",
      "Epoch 99/100\n",
      "712/712 [==============================] - 0s 395us/step - loss: 0.5027 - acc: 0.7669 - val_loss: 0.4708 - val_acc: 0.8212\n",
      "Epoch 100/100\n",
      "712/712 [==============================] - 0s 395us/step - loss: 0.4849 - acc: 0.7935 - val_loss: 0.4700 - val_acc: 0.8212\n"
     ]
    }
   ],
   "source": [
    "history = nn_model.fit(X_train, y_train, epochs=100,validation_data=(X_test,y_test),batch_size=32)"
   ]
  },
  {
   "cell_type": "code",
   "execution_count": 58,
   "metadata": {},
   "outputs": [
    {
     "data": {
      "image/png": "[encoded data removed]",
      "text/plain": [
       "<Figure size 432x288 with 1 Axes>"
      ]
     },
     "metadata": {
      "needs_background": "light"
     },
     "output_type": "display_data"
    },
    {
     "data": {
      "image/png": "[encoded data removed]",
      "text/plain": [
       "<Figure size 432x288 with 1 Axes>"
      ]
     },
     "metadata": {
      "needs_background": "light"
     },
     "output_type": "display_data"
    }
   ],
   "source": [
    "# Plot training & validation accuracy values\n",
    "plt.plot(history.history['acc'])\n",
    "plt.plot(history.history['val_acc'])\n",
    "plt.title('Model accuracy')\n",
    "plt.ylabel('Accuracy')\n",
    "plt.xlabel('Epoch')\n",
    "plt.legend(['Train', 'Val'], loc='upper left')\n",
    "plt.show()\n",
    "\n",
    "# Plot training & validation loss values\n",
    "plt.plot(history.history['loss'])\n",
    "plt.plot(history.history['val_loss'])\n",
    "plt.title('Model loss')\n",
    "plt.ylabel('Loss')\n",
    "plt.xlabel('Epoch')\n",
    "plt.legend(['Train', 'Val'], loc='upper left')\n",
    "plt.show()"
   ]
  },
  {
   "cell_type": "markdown",
   "metadata": {},
   "source": [
    "## Making Submissions for kaggle"
   ]
  },
  {
   "cell_type": "code",
   "execution_count": 35,
   "metadata": {},
   "outputs": [
    {
     "data": {
      "text/html": [
       "<div>\n",
       "<style scoped>\n",
       "    .dataframe tbody tr th:only-of-type {\n",
       "        vertical-align: middle;\n",
       "    }\n",
       "\n",
       "    .dataframe tbody tr th {\n",
       "        vertical-align: top;\n",
       "    }\n",
       "\n",
       "    .dataframe thead th {\n",
       "        text-align: right;\n",
       "    }\n",
       "</style>\n",
       "<table border=\"1\" class=\"dataframe\">\n",
       "  <thead>\n",
       "    <tr style=\"text-align: right;\">\n",
       "      <th></th>\n",
       "      <th>PassengerId</th>\n",
       "      <th>Pclass</th>\n",
       "      <th>Name</th>\n",
       "      <th>Sex</th>\n",
       "      <th>Age</th>\n",
       "      <th>SibSp</th>\n",
       "      <th>Parch</th>\n",
       "      <th>Ticket</th>\n",
       "      <th>Fare</th>\n",
       "      <th>Cabin</th>\n",
       "      <th>Embarked</th>\n",
       "    </tr>\n",
       "  </thead>\n",
       "  <tbody>\n",
       "    <tr>\n",
       "      <th>0</th>\n",
       "      <td>892</td>\n",
       "      <td>3</td>\n",
       "      <td>Kelly, Mr. James</td>\n",
       "      <td>male</td>\n",
       "      <td>34.5</td>\n",
       "      <td>0</td>\n",
       "      <td>0</td>\n",
       "      <td>330911</td>\n",
       "      <td>7.8292</td>\n",
       "      <td>NaN</td>\n",
       "      <td>Q</td>\n",
       "    </tr>\n",
       "    <tr>\n",
       "      <th>1</th>\n",
       "      <td>893</td>\n",
       "      <td>3</td>\n",
       "      <td>Wilkes, Mrs. James (Ellen Needs)</td>\n",
       "      <td>female</td>\n",
       "      <td>47.0</td>\n",
       "      <td>1</td>\n",
       "      <td>0</td>\n",
       "      <td>363272</td>\n",
       "      <td>7.0000</td>\n",
       "      <td>NaN</td>\n",
       "      <td>S</td>\n",
       "    </tr>\n",
       "    <tr>\n",
       "      <th>2</th>\n",
       "      <td>894</td>\n",
       "      <td>2</td>\n",
       "      <td>Myles, Mr. Thomas Francis</td>\n",
       "      <td>male</td>\n",
       "      <td>62.0</td>\n",
       "      <td>0</td>\n",
       "      <td>0</td>\n",
       "      <td>240276</td>\n",
       "      <td>9.6875</td>\n",
       "      <td>NaN</td>\n",
       "      <td>Q</td>\n",
       "    </tr>\n",
       "    <tr>\n",
       "      <th>3</th>\n",
       "      <td>895</td>\n",
       "      <td>3</td>\n",
       "      <td>Wirz, Mr. Albert</td>\n",
       "      <td>male</td>\n",
       "      <td>27.0</td>\n",
       "      <td>0</td>\n",
       "      <td>0</td>\n",
       "      <td>315154</td>\n",
       "      <td>8.6625</td>\n",
       "      <td>NaN</td>\n",
       "      <td>S</td>\n",
       "    </tr>\n",
       "    <tr>\n",
       "      <th>4</th>\n",
       "      <td>896</td>\n",
       "      <td>3</td>\n",
       "      <td>Hirvonen, Mrs. Alexander (Helga E Lindqvist)</td>\n",
       "      <td>female</td>\n",
       "      <td>22.0</td>\n",
       "      <td>1</td>\n",
       "      <td>1</td>\n",
       "      <td>3101298</td>\n",
       "      <td>12.2875</td>\n",
       "      <td>NaN</td>\n",
       "      <td>S</td>\n",
       "    </tr>\n",
       "  </tbody>\n",
       "</table>\n",
       "</div>"
      ],
      "text/plain": [
       "   PassengerId  Pclass                                          Name     Sex  \\\n",
       "0          892       3                              Kelly, Mr. James    male   \n",
       "1          893       3              Wilkes, Mrs. James (Ellen Needs)  female   \n",
       "2          894       2                     Myles, Mr. Thomas Francis    male   \n",
       "3          895       3                              Wirz, Mr. Albert    male   \n",
       "4          896       3  Hirvonen, Mrs. Alexander (Helga E Lindqvist)  female   \n",
       "\n",
       "    Age  SibSp  Parch   Ticket     Fare Cabin Embarked  \n",
       "0  34.5      0      0   330911   7.8292   NaN        Q  \n",
       "1  47.0      1      0   363272   7.0000   NaN        S  \n",
       "2  62.0      0      0   240276   9.6875   NaN        Q  \n",
       "3  27.0      0      0   315154   8.6625   NaN        S  \n",
       "4  22.0      1      1  3101298  12.2875   NaN        S  "
      ]
     },
     "execution_count": 35,
     "metadata": {},
     "output_type": "execute_result"
    }
   ],
   "source": [
    "test = pd.read_csv('test.csv')\n",
    "test.head()"
   ]
  },
  {
   "cell_type": "code",
   "execution_count": 36,
   "metadata": {},
   "outputs": [],
   "source": [
    "test_d = test[['Age','Fare','Pclass']]"
   ]
  },
  {
   "cell_type": "code",
   "execution_count": 37,
   "metadata": {},
   "outputs": [],
   "source": [
    "test_d['FamilySize'] = test['SibSp'] + test['Parch'] + 1"
   ]
  },
  {
   "cell_type": "code",
   "execution_count": 38,
   "metadata": {},
   "outputs": [],
   "source": [
    "test_d.fillna(test_d.mean(),inplace=True)"
   ]
  },
  {
   "cell_type": "code",
   "execution_count": 39,
   "metadata": {},
   "outputs": [],
   "source": [
    "test_d.loc[ test_d['Age'] <= 16, 'Age'] = 0\n",
    "test_d.loc[(test_d['Age'] > 16) & (test_d['Age'] <= 32), 'Age'] = 1\n",
    "test_d.loc[(test_d['Age'] > 32) & (test_d['Age'] <= 48), 'Age'] = 2\n",
    "test_d.loc[(test_d['Age'] > 48) & (test_d['Age'] <= 64), 'Age'] = 3\n",
    "test_d.loc[ test_d['Age'] > 64, 'Age'] = 4"
   ]
  },
  {
   "cell_type": "code",
   "execution_count": null,
   "metadata": {},
   "outputs": [],
   "source": []
  },
  {
   "cell_type": "code",
   "execution_count": 40,
   "metadata": {},
   "outputs": [],
   "source": [
    "lb = LabelEncoder()\n",
    "test['Sex'] = pd.DataFrame(test['Sex']).apply(lb.fit_transform)\n",
    "ohe = OneHotEncoder()\n",
    "ohe.fit(pd.DataFrame(test['Sex']))\n",
    "onehotlabels = ohe.transform(pd.DataFrame(test['Sex'])).toarray()"
   ]
  },
  {
   "cell_type": "code",
   "execution_count": 41,
   "metadata": {},
   "outputs": [
    {
     "data": {
      "text/html": [
       "<div>\n",
       "<style scoped>\n",
       "    .dataframe tbody tr th:only-of-type {\n",
       "        vertical-align: middle;\n",
       "    }\n",
       "\n",
       "    .dataframe tbody tr th {\n",
       "        vertical-align: top;\n",
       "    }\n",
       "\n",
       "    .dataframe thead th {\n",
       "        text-align: right;\n",
       "    }\n",
       "</style>\n",
       "<table border=\"1\" class=\"dataframe\">\n",
       "  <thead>\n",
       "    <tr style=\"text-align: right;\">\n",
       "      <th></th>\n",
       "      <th>Age</th>\n",
       "      <th>Fare</th>\n",
       "      <th>Pclass</th>\n",
       "      <th>FamilySize</th>\n",
       "    </tr>\n",
       "  </thead>\n",
       "  <tbody>\n",
       "    <tr>\n",
       "      <th>0</th>\n",
       "      <td>2.0</td>\n",
       "      <td>7.8292</td>\n",
       "      <td>3</td>\n",
       "      <td>1</td>\n",
       "    </tr>\n",
       "    <tr>\n",
       "      <th>1</th>\n",
       "      <td>2.0</td>\n",
       "      <td>7.0000</td>\n",
       "      <td>3</td>\n",
       "      <td>2</td>\n",
       "    </tr>\n",
       "    <tr>\n",
       "      <th>2</th>\n",
       "      <td>3.0</td>\n",
       "      <td>9.6875</td>\n",
       "      <td>2</td>\n",
       "      <td>1</td>\n",
       "    </tr>\n",
       "    <tr>\n",
       "      <th>3</th>\n",
       "      <td>1.0</td>\n",
       "      <td>8.6625</td>\n",
       "      <td>3</td>\n",
       "      <td>1</td>\n",
       "    </tr>\n",
       "    <tr>\n",
       "      <th>4</th>\n",
       "      <td>1.0</td>\n",
       "      <td>12.2875</td>\n",
       "      <td>3</td>\n",
       "      <td>3</td>\n",
       "    </tr>\n",
       "  </tbody>\n",
       "</table>\n",
       "</div>"
      ],
      "text/plain": [
       "   Age     Fare  Pclass  FamilySize\n",
       "0  2.0   7.8292       3           1\n",
       "1  2.0   7.0000       3           2\n",
       "2  3.0   9.6875       2           1\n",
       "3  1.0   8.6625       3           1\n",
       "4  1.0  12.2875       3           3"
      ]
     },
     "execution_count": 41,
     "metadata": {},
     "output_type": "execute_result"
    }
   ],
   "source": [
    "test_d.head()"
   ]
  },
  {
   "cell_type": "code",
   "execution_count": 42,
   "metadata": {},
   "outputs": [],
   "source": [
    "test_d = np.append(test_d,onehotlabels,axis=1)"
   ]
  },
  {
   "cell_type": "code",
   "execution_count": 43,
   "metadata": {},
   "outputs": [
    {
     "data": {
      "text/plain": [
       "array([[ 2.    ,  7.8292,  3.    ,  1.    ,  0.    ,  1.    ],\n",
       "       [ 2.    ,  7.    ,  3.    ,  2.    ,  1.    ,  0.    ],\n",
       "       [ 3.    ,  9.6875,  2.    ,  1.    ,  0.    ,  1.    ],\n",
       "       ...,\n",
       "       [ 2.    ,  7.25  ,  3.    ,  1.    ,  0.    ,  1.    ],\n",
       "       [ 1.    ,  8.05  ,  3.    ,  1.    ,  0.    ,  1.    ],\n",
       "       [ 1.    , 22.3583,  3.    ,  3.    ,  0.    ,  1.    ]])"
      ]
     },
     "execution_count": 43,
     "metadata": {},
     "output_type": "execute_result"
    }
   ],
   "source": [
    "test_d"
   ]
  },
  {
   "cell_type": "code",
   "execution_count": 44,
   "metadata": {},
   "outputs": [],
   "source": [
    "preds = model1.predict(test_d)\n"
   ]
  },
  {
   "cell_type": "code",
   "execution_count": 45,
   "metadata": {},
   "outputs": [],
   "source": [
    "sub = pd.DataFrame({'PassengerId':test['PassengerId'], 'Survived':preds})"
   ]
  },
  {
   "cell_type": "code",
   "execution_count": 46,
   "metadata": {},
   "outputs": [],
   "source": [
    "sub.to_csv('rev-sum-5.csv',index=False)"
   ]
  },
  {
   "cell_type": "code",
   "execution_count": 47,
   "metadata": {},
   "outputs": [
    {
     "data": {
      "text/html": [
       "<div>\n",
       "<style scoped>\n",
       "    .dataframe tbody tr th:only-of-type {\n",
       "        vertical-align: middle;\n",
       "    }\n",
       "\n",
       "    .dataframe tbody tr th {\n",
       "        vertical-align: top;\n",
       "    }\n",
       "\n",
       "    .dataframe thead th {\n",
       "        text-align: right;\n",
       "    }\n",
       "</style>\n",
       "<table border=\"1\" class=\"dataframe\">\n",
       "  <thead>\n",
       "    <tr style=\"text-align: right;\">\n",
       "      <th></th>\n",
       "      <th>PassengerId</th>\n",
       "      <th>Survived</th>\n",
       "    </tr>\n",
       "  </thead>\n",
       "  <tbody>\n",
       "    <tr>\n",
       "      <th>0</th>\n",
       "      <td>892</td>\n",
       "      <td>1</td>\n",
       "    </tr>\n",
       "    <tr>\n",
       "      <th>1</th>\n",
       "      <td>893</td>\n",
       "      <td>1</td>\n",
       "    </tr>\n",
       "    <tr>\n",
       "      <th>2</th>\n",
       "      <td>894</td>\n",
       "      <td>1</td>\n",
       "    </tr>\n",
       "    <tr>\n",
       "      <th>3</th>\n",
       "      <td>895</td>\n",
       "      <td>1</td>\n",
       "    </tr>\n",
       "    <tr>\n",
       "      <th>4</th>\n",
       "      <td>896</td>\n",
       "      <td>1</td>\n",
       "    </tr>\n",
       "  </tbody>\n",
       "</table>\n",
       "</div>"
      ],
      "text/plain": [
       "   PassengerId  Survived\n",
       "0          892         1\n",
       "1          893         1\n",
       "2          894         1\n",
       "3          895         1\n",
       "4          896         1"
      ]
     },
     "execution_count": 47,
     "metadata": {},
     "output_type": "execute_result"
    }
   ],
   "source": [
    "sub.head()"
   ]
  },
  {
   "cell_type": "code",
   "execution_count": null,
   "metadata": {},
   "outputs": [],
   "source": []
  }
 ],
 "metadata": {
  "kernelspec": {
   "display_name": "Python 3",
   "language": "python",
   "name": "python3"
  },
  "language_info": {
   "codemirror_mode": {
    "name": "ipython",
    "version": 3
   },
   "file_extension": ".py",
   "mimetype": "text/x-python",
   "name": "python",
   "nbconvert_exporter": "python",
   "pygments_lexer": "ipython3",
   "version": "3.6.6"
  }
 },
 "nbformat": 4,
 "nbformat_minor": 2
}
